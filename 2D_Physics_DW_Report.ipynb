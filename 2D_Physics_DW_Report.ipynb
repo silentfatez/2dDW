{
  "nbformat": 4,
  "nbformat_minor": 0,
  "metadata": {
    "colab": {
      "name": "2D Physics-DW Report Template.ipynb",
      "version": "0.3.2",
      "provenance": [],
      "collapsed_sections": [],
      "toc_visible": true
    },
    "language_info": {
      "codemirror_mode": {
        "name": "ipython",
        "version": 3
      },
      "file_extension": ".py",
      "mimetype": "text/x-python",
      "name": "python",
      "nbconvert_exporter": "python",
      "pygments_lexer": "ipython3",
      "version": "3.6.7"
    },
    "kernelspec": {
      "display_name": "Python 3",
      "language": "python",
      "name": "python3"
    }
  },
  "cells": [
    {
      "metadata": {
        "id": "EkyN5SVT3xmy",
        "colab_type": "text"
      },
      "cell_type": "markdown",
      "source": [
        "# Report for 2D Project Physical World and Digital World\n",
        "\n",
        "Cohort: # 07\n",
        "\n",
        "Team No.: # 02\n",
        "\n",
        "Members:\n",
        "* Keith Goh Guan Da(1003334)\n",
        "* Cheow Pak Leng Josiah (1003602)\n",
        "* Yang Peng (1003776)\n",
        "* Jessica Davinia Layardi (1003675)\n",
        "* Xu Shuangyi (1002952)"
      ]
    },
    {
      "metadata": {
        "id": "WPyFs_3u3xm1",
        "colab_type": "text"
      },
      "cell_type": "markdown",
      "source": [
        "# Introduction\n",
        "\n",
        "Write your introduction here. Describe the problem you want to solve and a brief of your approach and summary of your result.\n"
      ]
    },
    {
      "metadata": {
        "id": "BEMt31T53xm3",
        "colab_type": "text"
      },
      "cell_type": "markdown",
      "source": [
        "# Description of Data from Experiment"
      ]
    },
    {
      "metadata": {
        "id": "cKa8mAp83xm4",
        "colab_type": "text"
      },
      "cell_type": "markdown",
      "source": [
        "## Data Collection\n",
        "\n",
        "Describe how you collect your data and the reasoning behind such approach.\n",
        "\n"
      ]
    },
    {
      "metadata": {
        "id": "J8vzmEuveNWj",
        "colab_type": "text"
      },
      "cell_type": "markdown",
      "source": [
        "We used an rpi to log the time and temperature of the water. We put the temperature probe in after a few seconds of starting the probe. We then ran the programme till the temperature is constant."
      ]
    },
    {
      "metadata": {
        "id": "ToBwoNkUN-nk",
        "colab_type": "code",
        "outputId": "697d10c3-88cb-4c22-ba9d-8b58fe6968c4",
        "colab": {
          "base_uri": "https://localhost:8080/",
          "height": 235
        }
      },
      "cell_type": "code",
      "source": [
        "import os\n",
        "import glob\n",
        "import time\n",
        "import csv\n",
        " \n",
        "os.system('modprobe w1-gpio')\n",
        "os.system('modprobe w1-therm')\n",
        " \n",
        "base_dir = '/sys/bus/w1/devices/'\n",
        "device_folder = glob.glob(base_dir + '28*')[0]\n",
        "device_file = device_folder + '/w1_slave'\n",
        " #function which reads each line of the file\n",
        "def read_temp_raw():\n",
        "    f = open(device_file, 'r')\n",
        "    lines = f.readlines()\n",
        "    f.close()\n",
        "    return lines\n",
        " \n",
        "def read_temp():\n",
        "    lines = read_temp_raw()\n",
        "    \n",
        "    while lines[0].strip()[-3:] != 'YES':\n",
        "        time.sleep(0.2)\n",
        "        lines = read_temp_raw()\n",
        "    equals_pos = lines[1].find('t=')\n",
        "    if equals_pos != -1:\n",
        "        temp_string = lines[1][equals_pos+2:]\n",
        "        temp_c = float(temp_string) / 1000.0\n",
        "        return temp_c\n",
        "    \n",
        "try:\n",
        "    with open('./tempreadingtest22.csv','a') as f:\n",
        "        csv_out=csv.writer(f)\n",
        "        csv_out.writerow(('Time','Temp'))\n",
        "        while True:\n",
        "            csv_out.writerow((time.strftime(\"%Y-%m-%d %H:%M:%S\"),read_temp()))\n",
        "            print(read_temp())\n",
        "except KeyboardInterrupt:\n",
        "    f.close()"
      ],
      "execution_count": 0,
      "outputs": [
        {
          "output_type": "error",
          "ename": "IndexError",
          "evalue": "ignored",
          "traceback": [
            "\u001b[0;31m---------------------------------------------------------------------------\u001b[0m",
            "\u001b[0;31mIndexError\u001b[0m                                Traceback (most recent call last)",
            "\u001b[0;32m<ipython-input-20-84b738d00aae>\u001b[0m in \u001b[0;36m<module>\u001b[0;34m()\u001b[0m\n\u001b[1;32m      8\u001b[0m \u001b[0;34m\u001b[0m\u001b[0m\n\u001b[1;32m      9\u001b[0m \u001b[0mbase_dir\u001b[0m \u001b[0;34m=\u001b[0m \u001b[0;34m'/sys/bus/w1/devices/'\u001b[0m\u001b[0;34m\u001b[0m\u001b[0;34m\u001b[0m\u001b[0m\n\u001b[0;32m---> 10\u001b[0;31m \u001b[0mdevice_folder\u001b[0m \u001b[0;34m=\u001b[0m \u001b[0mglob\u001b[0m\u001b[0;34m.\u001b[0m\u001b[0mglob\u001b[0m\u001b[0;34m(\u001b[0m\u001b[0mbase_dir\u001b[0m \u001b[0;34m+\u001b[0m \u001b[0;34m'28*'\u001b[0m\u001b[0;34m)\u001b[0m\u001b[0;34m[\u001b[0m\u001b[0;36m0\u001b[0m\u001b[0;34m]\u001b[0m\u001b[0;34m\u001b[0m\u001b[0;34m\u001b[0m\u001b[0m\n\u001b[0m\u001b[1;32m     11\u001b[0m \u001b[0mdevice_file\u001b[0m \u001b[0;34m=\u001b[0m \u001b[0mdevice_folder\u001b[0m \u001b[0;34m+\u001b[0m \u001b[0;34m'/w1_slave'\u001b[0m\u001b[0;34m\u001b[0m\u001b[0;34m\u001b[0m\u001b[0m\n\u001b[1;32m     12\u001b[0m  \u001b[0;31m#function which reads each line of the file\u001b[0m\u001b[0;34m\u001b[0m\u001b[0;34m\u001b[0m\u001b[0;34m\u001b[0m\u001b[0m\n",
            "\u001b[0;31mIndexError\u001b[0m: list index out of range"
          ]
        }
      ]
    },
    {
      "metadata": {
        "id": "3NUqDLeBOCcg",
        "colab_type": "text"
      },
      "cell_type": "markdown",
      "source": [
        "This code allows us to to read and update csv files with our time and temperature readings"
      ]
    },
    {
      "metadata": {
        "id": "bI5Eb9RD3xm6",
        "colab_type": "text"
      },
      "cell_type": "markdown",
      "source": [
        "## Data Preparation\n",
        "\n",
        "Describe how you prepare your data. Include any codes you have here."
      ]
    },
    {
      "metadata": {
        "id": "6VgKCA4bewBf",
        "colab_type": "text"
      },
      "cell_type": "markdown",
      "source": [
        "We first converted the csv file into xlsx format and also took away the excess data from the start and end of the csv files manually.\n",
        "We then automated the process of converting the time into seconds and also processes the temperature data to the linear form."
      ]
    },
    {
      "metadata": {
        "id": "KpZn5PkQ3xm7",
        "colab_type": "text"
      },
      "cell_type": "markdown",
      "source": [
        "## Data Format\n",
        "\n",
        "Describe your data and its features. Include any codes or visualization of data."
      ]
    },
    {
      "metadata": {
        "id": "Fd1UgBUkf4Zw",
        "colab_type": "text"
      },
      "cell_type": "markdown",
      "source": [
        "The data is in the form $\\ln\\frac{\\mathrm{T}_{\\mathrm{w}}-\\mathrm{T}_{\\mathrm{s}}}{\\mathrm{T}_{\\mathrm{w}}-\\mathrm{T}_{\\mathrm{amb}}}$against time.\n"
      ]
    },
    {
      "metadata": {
        "id": "ksDxUpA23xm9",
        "colab_type": "text"
      },
      "cell_type": "markdown",
      "source": [
        "# Training Model\n",
        "\n",
        "Describe how you train your model. Include any code and output"
      ]
    },
    {
      "metadata": {
        "id": "HzISS_I1gLYw",
        "colab_type": "text"
      },
      "cell_type": "markdown",
      "source": [
        "We split the data into training and test sets and used sk learn to linearly regress the data. We found a value of tau."
      ]
    },
    {
      "metadata": {
        "id": "2wNkSLxP3xm-",
        "colab_type": "text"
      },
      "cell_type": "markdown",
      "source": [
        "# Verification and Accuracy\n",
        "\n",
        "Describe how you check the accuracy of your model and its result. State any analysis you have and the steps you have taken to improve its accuracy."
      ]
    },
    {
      "metadata": {
        "id": "EM6vGfX0gjQz",
        "colab_type": "text"
      },
      "cell_type": "markdown",
      "source": [
        "We tested the model using the model against the test data. The  $r^2$ value and MSE value was used to evaluate the data.\n",
        "We took more data sets in order to improve the results. However we found that for different data sets they have different values of $\\tau$ which is related to $-\\frac{1}{gradient}$."
      ]
    },
    {
      "metadata": {
        "id": "_64J3wTp3xnA",
        "colab_type": "text"
      },
      "cell_type": "markdown",
      "source": [
        "# Example Scripts"
      ]
    },
    {
      "metadata": {
        "id": "A3fZgmKn3xnB",
        "colab_type": "text"
      },
      "cell_type": "markdown",
      "source": [
        "Instruction:\n",
        "\n",
        "* Read an excel file with the following format:\n",
        "```\n",
        "time (s)\treading\n",
        "0.00\t    25.812\n",
        "0.90\t    28.562\n",
        "1.79\t    31.875\n",
        "2.68\t    35.062\n",
        "3.55\t    37.937\n",
        "4.43\t    40.687\n",
        "5.30\t    43.25\n",
        "```\n",
        "where the first column indicates the time in seconds and the second column indicates the sensor reading in Celsius. \n",
        "* Write a code to prepare the data, extract the features.\n",
        "* Write a code to split the data.\n",
        "* Write a code to train the model.\n",
        "* Write a code to predict the final temperature.\n",
        "* Write a code to check accuracy.\n",
        "\n",
        "**The script below is just for your example. You don't have to use it and you can write your own script.**\n",
        "\n"
      ]
    },
    {
      "metadata": {
        "id": "EM_-c5qIh6_X",
        "colab_type": "text"
      },
      "cell_type": "markdown",
      "source": [
        "First we started to import the data into panda dataframe"
      ]
    },
    {
      "metadata": {
        "id": "YjIlPIuY3xnD",
        "colab_type": "code",
        "colab": {}
      },
      "cell_type": "code",
      "source": [
        "# write a code to read an excel file\n",
        "\n",
        "import pandas as pd\n",
        "\n",
        "# specify the base of your filename, e.g. temp_1.xlsx, temp_2.xlsx\n",
        "filename = 'tempreadingtest' \n",
        "\n",
        "# if you have more than one files, \n",
        "# you can use some key to differentiate them, e.g. '1', '2'\n",
        "filekeys = ['','2','3','4','5','6','7','8','9','10','11','12','13','14','15','16','17','18','19','20','21','22','23'] \n",
        "\n",
        "# this is to store the data for different files, \n",
        "# the keys are in filekeys\n",
        "dataframe = {} \n",
        "for key in filekeys:\n",
        "    dataframe[key] = pd.read_excel(filename + key + '.xlsx')\n"
      ],
      "execution_count": 0,
      "outputs": []
    },
    {
      "metadata": {
        "id": "W1_ETp1vh6QD",
        "colab_type": "text"
      },
      "cell_type": "markdown",
      "source": [
        "We then prepared the data into the dictionary data processed with different keys for different sets of data. With one column being time in seconds since the start of the experiment and the other column being  $\\ln\\frac{\\mathrm{T}_{\\mathrm{w}}-\\mathrm{T}_{\\mathrm{s}}}{\\mathrm{T}_{\\mathrm{w}}-\\mathrm{T}_{\\mathrm{amb}}}$"
      ]
    },
    {
      "metadata": {
        "id": "CMZ8DMBFwNqe",
        "colab_type": "text"
      },
      "cell_type": "markdown",
      "source": [
        ""
      ]
    },
    {
      "metadata": {
        "id": "2rAxEDSM3xnL",
        "colab_type": "code",
        "colab": {}
      },
      "cell_type": "code",
      "source": [
        "# write a code to prepare the data for predicting\n",
        "import numpy as np\n",
        "def preprocess(df):\n",
        "    # use this function to extract the features from the data frame\n",
        "    minutestore=''\n",
        "    timearray=np.array([])\n",
        "    temparray=np.array([])\n",
        "    #appointing temperature data from our frame\n",
        "    Tempw=df[\"Temp\"].iloc[-1]\n",
        "    Tempamb=df[\"Temp\"].iloc[0]\n",
        "    #loop through each row\n",
        "    for index, row in df.iterrows():\n",
        "      #we want to split the minutes and seconds\n",
        "      timenow=str(row['Time'])\n",
        "      splitdate=timenow.split(' ')[1]\n",
        "      seconds=int(splitdate.split(':')[2])\n",
        "      minutes=int(splitdate.split(':')[1])\n",
        "      #storing of minutes to be converted into seconds\n",
        "      if minutestore=='':\n",
        "        minutestore=minutes\n",
        "      #storing of seconds\n",
        "      if minutes-minutestore>0:\n",
        "        seconds=(minutes-minutestore)*60+seconds\n",
        "      elif minutestore-minutes>0:\n",
        "        seconds=(60-(minutestore-minutes))*60+seconds\n",
        "      if (row['Temp']-Tempw)==0:\n",
        "        pass\n",
        "      else:\n",
        "        #storing temperature and time data into array\n",
        "        temparraynew=np.array([[np.log((row['Temp']-Tempw)/(Tempamb-Tempw))]])\n",
        "        timearraynew=np.array([[seconds]])\n",
        "        \n",
        "        if timearray.size==0:\n",
        "          timearrayfirst=timearraynew\n",
        "          timearray=np.array([[0]])\n",
        "          \n",
        "        else:\n",
        "          timearraynew-=timearrayfirst\n",
        "          timearray=np.concatenate((timearray,timearraynew))\n",
        "        if temparray.size==0:\n",
        "          temparray=temparraynew\n",
        "          \n",
        "        else:\n",
        "          temparray=np.concatenate((temparray,temparraynew))\n",
        "    return timearray,temparray      \n",
        "\n",
        "\n",
        "data_processed = {}\n",
        "for key in filekeys:\n",
        "    data_processed[key]=preprocess(dataframe[key])\n"
      ],
      "execution_count": 0,
      "outputs": []
    },
    {
      "metadata": {
        "id": "8-yUdPVLieLz",
        "colab_type": "text"
      },
      "cell_type": "markdown",
      "source": [
        "We then split the data and combined all the data in the various datasets into one full dataset the split it into training and test sets."
      ]
    },
    {
      "metadata": {
        "id": "AnhVvKnknbhP",
        "colab_type": "code",
        "colab": {}
      },
      "cell_type": "code",
      "source": [
        "\n",
        "# write a code to split the data to train and test\n",
        "from sklearn.model_selection import train_test_split\n",
        "\n",
        "\n",
        "def prepare_train_test(data,filekey):\n",
        "  totaltime=np.array([[0]])\n",
        "  totaltemp=np.array([[0]])\n",
        "  for keys in filekey:\n",
        "    if np.size(totaltemp)==0:\n",
        "      totaltime=data[keys][0]\n",
        "      totaltemp=data[keys][1]\n",
        "    else:\n",
        "      totaltime=np.concatenate((totaltime,data[keys][0]))\n",
        "      totaltemp=np.concatenate((totaltemp,data[keys][1]))\n",
        "  x_train,x_test,y_train,y_test=train_test_split(totaltime,totaltemp,test_size=0.3,random_state=5)\n",
        "  traindata=(x_train,y_train)\n",
        "  testdata=(x_test,y_test)\n",
        "  return traindata,testdata\n",
        "\n",
        "    \n",
        "\n",
        "data_train, data_test = prepare_train_test(data_processed,filekeys)"
      ],
      "execution_count": 0,
      "outputs": []
    },
    {
      "metadata": {
        "id": "xmN4jZeuiyXT",
        "colab_type": "text"
      },
      "cell_type": "markdown",
      "source": [
        "We then used a linear model to fit data."
      ]
    },
    {
      "metadata": {
        "id": "hCYtO515nwfD",
        "colab_type": "code",
        "colab": {}
      },
      "cell_type": "code",
      "source": [
        "from sklearn import linear_model \n",
        "\n",
        "# write a code to train the model\n",
        "# the function should return the trained model\n",
        "def train_model(data):\n",
        "  regr=linear_model.LinearRegression()\n",
        "  model=regr.fit(data[0],data[1])\n",
        "  c1=regr.coef_\n",
        "  c0=regr.intercept_\n",
        "  return model\n",
        "  \n",
        "\n",
        "\n",
        "model = train_model(data_train)"
      ],
      "execution_count": 0,
      "outputs": []
    },
    {
      "metadata": {
        "id": "JKk4BbzCi83B",
        "colab_type": "text"
      },
      "cell_type": "markdown",
      "source": [
        "We used the mean square error and r2 score to evaluate the data."
      ]
    },
    {
      "metadata": {
        "id": "s34py7JPoAph",
        "colab_type": "code",
        "outputId": "2b39821f-e36b-47c2-c987-90f3ad3bbcdf",
        "colab": {
          "base_uri": "https://localhost:8080/",
          "height": 55
        }
      },
      "cell_type": "code",
      "source": [
        "from sklearn.metrics import mean_squared_error, r2_score\n",
        "\n",
        "def tester(regr,data):    \n",
        "    c0=regr.intercept_\n",
        "    c1=regr.coef_\n",
        "    y_pred=regr.predict(data[0])\n",
        "    MSE=mean_squared_error(y_pred,data[1])\n",
        "    R2=r2_score(data[1],y_pred)\n",
        "    results={}\n",
        "    results['coefficients']=c1\n",
        "    results['intercept']=c0\n",
        "    results['mean squared error']=MSE\n",
        "    results['r2 score']=R2\n",
        "    results['tau']=-1/c1[0][0]\n",
        "    return results\n",
        "print(tester(model,data_test))"
      ],
      "execution_count": 0,
      "outputs": [
        {
          "output_type": "stream",
          "text": [
            "{'coefficients': array([[-0.05278939]]), 'intercept': array([-0.25084623]), 'mean squared error': 0.29289079716707433, 'r2 score': 0.8952962273743904, 'tau': 18.943202096637233}\n"
          ],
          "name": "stdout"
        }
      ]
    },
    {
      "metadata": {
        "id": "5xsbSevBhYV5",
        "colab_type": "text"
      },
      "cell_type": "markdown",
      "source": [
        "Since the results were not good, we tried to train individual models for individual data sets to test how the value of tau would change for each set."
      ]
    },
    {
      "metadata": {
        "id": "JRVOsLwWmRDE",
        "colab_type": "code",
        "colab": {}
      },
      "cell_type": "code",
      "source": [
        "# write a code to prepare the data for predicting\n",
        "import numpy as np\n",
        "def preprocess(df):\n",
        "    # use this function to extract the features from the data frame\n",
        "    minutestore=''\n",
        "    timearray=np.array([])\n",
        "    temparray=np.array([])\n",
        "    #appointing temperature data from our frame\n",
        "    Tempw=df[\"Temp\"].iloc[-1]\n",
        "    Tempamb=df[\"Temp\"].iloc[0]\n",
        "    #loop through each row\n",
        "    for index, row in df.iterrows():\n",
        "      #we want to split the minutes and seconds\n",
        "      timenow=str(row['Time'])\n",
        "      splitdate=timenow.split(' ')[1]\n",
        "      seconds=int(splitdate.split(':')[2])\n",
        "      minutes=int(splitdate.split(':')[1])\n",
        "      #storing of minutes to be converted into seconds\n",
        "      if minutestore=='':\n",
        "        minutestore=minutes\n",
        "      #storing of seconds\n",
        "      if minutes-minutestore>0:\n",
        "        seconds=(minutes-minutestore)*60+seconds\n",
        "      elif minutestore-minutes>0:\n",
        "        seconds=(60-(minutestore-minutes))*60+seconds\n",
        "      if (row['Temp']-Tempw)==0:\n",
        "        pass\n",
        "      else:\n",
        "        #storing temperature and time data into array\n",
        "        temparraynew=np.array([[np.log((row['Temp']-Tempw)/(Tempamb-Tempw))]])\n",
        "        timearraynew=np.array([[seconds]])\n",
        "        \n",
        "        if timearray.size==0:\n",
        "          timearrayfirst=timearraynew\n",
        "          timearray=np.array([[0]])\n",
        "          \n",
        "        else:\n",
        "          timearraynew-=timearrayfirst\n",
        "          timearray=np.concatenate((timearray,timearraynew))\n",
        "        if temparray.size==0:\n",
        "          temparray=temparraynew\n",
        "          \n",
        "        else:\n",
        "          temparray=np.concatenate((temparray,temparraynew))\n",
        "    return timearray,temparray      \n",
        "\n",
        "\n",
        "data_processed = {}\n",
        "for key in filekeys:\n",
        "    data_processed[key]=preprocess(dataframe[key])"
      ],
      "execution_count": 0,
      "outputs": []
    },
    {
      "metadata": {
        "id": "M26kZw3l3xnQ",
        "colab_type": "code",
        "colab": {}
      },
      "cell_type": "code",
      "source": [
        "\n",
        "# write a code to split the data to train and test\n",
        "from sklearn.model_selection import train_test_split\n",
        "\n",
        "\n",
        "def prepare_train_test(data):\n",
        "  \n",
        "  x_train,x_test,y_train,y_test=train_test_split(data[0],data[1],test_size=0.3,random_state=5)\n",
        "  traindata=(x_train,y_train)\n",
        "  testdata=(x_test,y_test)\n",
        "  return traindata,testdata\n",
        "\n",
        "    \n",
        "datatrain={}\n",
        "datatest={}\n",
        "for key in filekeys:\n",
        "  datatrain[key], datatest[key] = prepare_train_test(data_processed[key])\n"
      ],
      "execution_count": 0,
      "outputs": []
    },
    {
      "metadata": {
        "id": "R9IMJ1LBmOHX",
        "colab_type": "code",
        "colab": {}
      },
      "cell_type": "code",
      "source": [
        "from sklearn import linear_model \n",
        "# write a code to train the model\n",
        "# the function should return the trained model\n",
        "def train_model(data):\n",
        "  regr=linear_model.LinearRegression()\n",
        "  model=regr.fit(data[0],data[1])\n",
        "  c1=regr.coef_\n",
        "  c0=regr.intercept_\n",
        "  K=(-1/c1)[0][0]\n",
        "  return model\n",
        "  \n",
        "\n",
        "model={}\n",
        "for key in filekeys:\n",
        "  model[key] = train_model(datatrain[key])"
      ],
      "execution_count": 0,
      "outputs": []
    },
    {
      "metadata": {
        "id": "gqtyk5D63xna",
        "colab_type": "code",
        "colab": {}
      },
      "cell_type": "code",
      "source": [
        "# write a code to predict the final temperature\n",
        "# store the predicted temperature in a variable called \"predicted\"\n",
        "# predicted is a dictionary where the keys are listed in filekey\n",
        "from sklearn.metrics import mean_squared_error, r2_score\n",
        "\n",
        "def tester(regr,data):    \n",
        "    c0=regr.intercept_\n",
        "    c1=regr.coef_\n",
        "    y_pred=regr.predict(data[0])\n",
        "    MSE=mean_squared_error(y_pred,data[1])\n",
        "    R2=r2_score(data[1],y_pred)\n",
        "    results={}\n",
        "    results['coefficients']=c1\n",
        "    results['intercept']=c0\n",
        "    results['mean squared error']=MSE\n",
        "    results['r2 score']=R2\n",
        "    results['y_pred']=y_pred\n",
        "    results['tau']=-1/c1[0][0]\n",
        "    return results\n",
        "  \n",
        "predicted = {}  \n",
        "resultsdict={}\n",
        "for key in filekeys:\n",
        "    resultsdict[key]=tester(model[key],datatest[key])\n",
        "    predicted[key]=resultsdict[key]['y_pred']\n",
        "    \n",
        "    \n",
        "    "
      ],
      "execution_count": 0,
      "outputs": []
    }
  ]
}